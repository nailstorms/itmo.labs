{
 "cells": [
  {
   "cell_type": "code",
   "execution_count": 5,
   "metadata": {},
   "outputs": [
    {
     "ename": "ModuleNotFoundError",
     "evalue": "No module named 'tabulate'",
     "output_type": "error",
     "traceback": [
      "\u001b[1;31m---------------------------------------------------------------------------\u001b[0m",
      "\u001b[1;31mModuleNotFoundError\u001b[0m                       Traceback (most recent call last)",
      "\u001b[1;32m<ipython-input-5-f9c19b186e39>\u001b[0m in \u001b[0;36m<module>\u001b[1;34m()\u001b[0m\n\u001b[0;32m      1\u001b[0m \u001b[1;32mimport\u001b[0m \u001b[0mmath\u001b[0m\u001b[1;33m\u001b[0m\u001b[0m\n\u001b[0;32m      2\u001b[0m \u001b[1;32mimport\u001b[0m \u001b[0mos\u001b[0m\u001b[1;33m\u001b[0m\u001b[0m\n\u001b[1;32m----> 3\u001b[1;33m \u001b[1;32mfrom\u001b[0m \u001b[0mtabulate\u001b[0m \u001b[1;32mimport\u001b[0m \u001b[0mtabulate\u001b[0m\u001b[1;33m\u001b[0m\u001b[0m\n\u001b[0m",
      "\u001b[1;31mModuleNotFoundError\u001b[0m: No module named 'tabulate'"
     ]
    }
   ],
   "source": [
    "import math\n",
    "import os\n",
    "from tabulate import tabulate"
   ]
  },
  {
   "cell_type": "code",
   "execution_count": 4,
   "metadata": {},
   "outputs": [],
   "source": [
    "def get_entropies(path):\n",
    "    global result_ent\n",
    "    for prob_key in probs:\n",
    "        probs[prob_key] = probs[prob_key]/text_length\n",
    "        entropies[prob_key] = math.log2(1/probs[prob_key])\n",
    "        result_ent -= probs[prob_key] * math.log2(probs[prob_key])\n",
    "    print(f'\\nИмя файла: {os.path.basename(path)}')\n",
    "    print(f'Значение энтропии: {result_ent:.4f}\\n')\n",
    "    \n",
    "    data_list = []\n",
    "    for prob_key in probs:\n",
    "        data_list.append([prob_key, probs[prob_key], entropies[prob_key]])\n",
    "    table = tabulate(data_list, headers=['Символ', 'Вероятность', 'Энтропия'])\n",
    "    print(table)"
   ]
  },
  {
   "cell_type": "code",
   "execution_count": 3,
   "metadata": {},
   "outputs": [
    {
     "name": "stdout",
     "output_type": "stream",
     "text": [
      "Путь к файлу: C:\\Users\\nailstorm\\Downloads\\3gables.txt\n",
      "\n",
      "Имя файла: 3gables.txt\n",
      "Значение энтропии: 4.1514\n",
      "\n",
      "Символ:    Вероятность:    Энтропия:\n",
      ".      0.0752   3.7328\n",
      "       0.1867   2.4210\n",
      "E      0.0890   3.4899\n",
      "A      0.0592   4.0775\n",
      "R      0.0399   4.6490\n",
      "T      0.0644   3.9570\n",
      "H      0.0478   4.3867\n",
      "S      0.0480   4.3804\n",
      "D      0.0292   5.0959\n",
      "M      0.0232   5.4308\n",
      "L      0.0327   4.9350\n",
      "N      0.0458   4.4477\n",
      "3      0.0001  13.0251\n",
      "1      0.0001  12.7032\n",
      "5      0.0002  12.2178\n",
      "8      0.0001  14.0251\n",
      "0      0.0001  14.0251\n",
      "2      0.0000  15.0251\n",
      "4      0.0001  13.4402\n",
      "7      0.0000  15.0251\n",
      "B      0.0107   6.5454\n",
      "F      0.0141   6.1456\n",
      "O      0.0608   4.0393\n",
      "X      0.0007  10.4402\n",
      "I      0.0510   4.2938\n",
      "J      0.0009  10.1672\n",
      "U      0.0248   5.3317\n",
      "K      0.0069   7.1734\n",
      "P      0.0102   6.6157\n",
      "G      0.0140   6.1610\n",
      "C      0.0151   6.0450\n",
      "V      0.0077   7.0251\n",
      "Y      0.0187   5.7421\n",
      "W      0.0213   5.5535\n",
      "Q      0.0007  10.3813\n",
      "Z      0.0004  11.4402\n"
     ]
    }
   ],
   "source": [
    "text_length = 0\n",
    "\n",
    "probs = {}\n",
    "entropies = {}\n",
    "\n",
    "result_ent = 0.0\n",
    "\n",
    "file_path = input(\"Путь к файлу: \") \n",
    "with open(file_path, 'r') as file:\n",
    "    for char in file.read():\n",
    "        if char.isalpha() or char.isdigit():\n",
    "            char_temp = char.upper()\n",
    "        elif char == ' ':\n",
    "            char_temp = \" \" \n",
    "        else:\n",
    "            char_temp = '.'\n",
    "        \n",
    "        if char_temp in probs:\n",
    "            probs[char_temp] += 1.0\n",
    "        else:\n",
    "            probs[char_temp] = 1.0\n",
    "            \n",
    "        text_length += 1\n",
    "    \n",
    "    get_entropies(file_path)"
   ]
  },
  {
   "cell_type": "code",
   "execution_count": null,
   "metadata": {},
   "outputs": [],
   "source": []
  }
 ],
 "metadata": {
  "kernelspec": {
   "display_name": "Python 3",
   "language": "python",
   "name": "python3"
  },
  "language_info": {
   "codemirror_mode": {
    "name": "ipython",
    "version": 3
   },
   "file_extension": ".py",
   "mimetype": "text/x-python",
   "name": "python",
   "nbconvert_exporter": "python",
   "pygments_lexer": "ipython3",
   "version": "3.6.5"
  }
 },
 "nbformat": 4,
 "nbformat_minor": 2
}
